{
 "cells": [
  {
   "cell_type": "code",
   "execution_count": 1,
   "id": "a5ca99a8-ce4f-4200-9c15-a7a2233e0f27",
   "metadata": {},
   "outputs": [
    {
     "name": "stdout",
     "output_type": "stream",
     "text": [
      "1.12.0a0+bd13bc6\n"
     ]
    },
    {
     "name": "stderr",
     "output_type": "stream",
     "text": [
      "/opt/conda/lib/python3.8/site-packages/tqdm/auto.py:22: TqdmWarning: IProgress not found. Please update jupyter and ipywidgets. See https://ipywidgets.readthedocs.io/en/stable/user_install.html\n",
      "  from .autonotebook import tqdm as notebook_tqdm\n"
     ]
    }
   ],
   "source": [
    "import torch\n",
    "\n",
    "print(torch.__version__)"
   ]
  },
  {
   "cell_type": "code",
   "execution_count": 2,
   "id": "8638f470-662f-41b1-8742-22266518c21d",
   "metadata": {},
   "outputs": [
    {
     "name": "stdout",
     "output_type": "stream",
     "text": [
      "\u001b[33mWARNING: Ignoring invalid distribution -ometheus-client (/opt/conda/lib/python3.8/site-packages)\u001b[0m\n",
      "\u001b[33mWARNING: Ignoring invalid distribution -rometheus-client (/opt/conda/lib/python3.8/site-packages)\u001b[0m\n",
      "\u001b[33mWARNING: Ignoring invalid distribution - (/opt/conda/lib/python3.8/site-packages)\u001b[0m\n",
      "\u001b[33mWARNING: Ignoring invalid distribution -ometheus-client (/opt/conda/lib/python3.8/site-packages)\u001b[0m\n",
      "\u001b[33mWARNING: Ignoring invalid distribution -rometheus-client (/opt/conda/lib/python3.8/site-packages)\u001b[0m\n",
      "\u001b[33mWARNING: Ignoring invalid distribution - (/opt/conda/lib/python3.8/site-packages)\u001b[0m\n",
      "\u001b[33mWARNING: Ignoring invalid distribution -ometheus-client (/opt/conda/lib/python3.8/site-packages)\u001b[0m\n",
      "\u001b[33mWARNING: Ignoring invalid distribution -rometheus-client (/opt/conda/lib/python3.8/site-packages)\u001b[0m\n",
      "\u001b[33mWARNING: Ignoring invalid distribution - (/opt/conda/lib/python3.8/site-packages)\u001b[0m\n",
      "\u001b[33m    WARNING: Ignoring invalid distribution -ometheus-client (/opt/conda/lib/python3.8/site-packages)\u001b[0m\n",
      "\u001b[33m    WARNING: Ignoring invalid distribution -rometheus-client (/opt/conda/lib/python3.8/site-packages)\u001b[0m\n",
      "\u001b[33m    WARNING: Ignoring invalid distribution - (/opt/conda/lib/python3.8/site-packages)\u001b[0m\n",
      "\u001b[31mERROR: Could not install packages due to an OSError: [Errno 13] Permission denied: 'INSTALLER'\n",
      "Consider using the `--user` option or check the permissions.\n",
      "\u001b[0m\n",
      "\u001b[33mWARNING: Ignoring invalid distribution -ometheus-client (/opt/conda/lib/python3.8/site-packages)\u001b[0m\n",
      "\u001b[33mWARNING: Ignoring invalid distribution -rometheus-client (/opt/conda/lib/python3.8/site-packages)\u001b[0m\n",
      "\u001b[33mWARNING: Ignoring invalid distribution - (/opt/conda/lib/python3.8/site-packages)\u001b[0m\n",
      "\u001b[33mWARNING: Ignoring invalid distribution -ometheus-client (/opt/conda/lib/python3.8/site-packages)\u001b[0m\n",
      "\u001b[33mWARNING: Ignoring invalid distribution -rometheus-client (/opt/conda/lib/python3.8/site-packages)\u001b[0m\n",
      "\u001b[33mWARNING: Ignoring invalid distribution - (/opt/conda/lib/python3.8/site-packages)\u001b[0m\n",
      "\u001b[33mWARNING: Ignoring invalid distribution -ometheus-client (/opt/conda/lib/python3.8/site-packages)\u001b[0m\n",
      "\u001b[33mWARNING: Ignoring invalid distribution -rometheus-client (/opt/conda/lib/python3.8/site-packages)\u001b[0m\n",
      "\u001b[33mWARNING: Ignoring invalid distribution - (/opt/conda/lib/python3.8/site-packages)\u001b[0m\n"
     ]
    }
   ],
   "source": [
    "!pip install -q flwr[simulation] torch torchvision matplotlib"
   ]
  },
  {
   "cell_type": "code",
   "execution_count": 3,
   "id": "85382769-a873-47ef-9c9f-6b13ab0a5f7c",
   "metadata": {},
   "outputs": [
    {
     "name": "stdout",
     "output_type": "stream",
     "text": [
      "Training on cpu using PyTorch 1.12.0a0+bd13bc6 and Flower 1.3.0\n"
     ]
    }
   ],
   "source": [
    "from collections import OrderedDict\n",
    "from typing import Dict, List, Optional, Tuple\n",
    "\n",
    "import time\n",
    "import matplotlib.pyplot as plt\n",
    "import numpy as np\n",
    "import torch\n",
    "import torch.nn as nn\n",
    "import torch.nn.functional as F\n",
    "import torchvision\n",
    "import torchvision.transforms as transforms\n",
    "from torch.utils.data import DataLoader, random_split\n",
    "from torchvision.datasets import CIFAR10\n",
    "from torchvision.datasets import ImageFolder\n",
    "from typing import Callable, Union\n",
    "\n",
    "import flwr as fl\n",
    "from flwr.common import Metrics\n",
    "\n",
    "torch.cuda.empty_cache()\n",
    "\n",
    "if torch.cuda.is_available():\n",
    "    #DEVICE = torch.device(\"cuda\")  # Try \"cuda\" to train on GPU\n",
    "    DEVICE = torch.device(\"cpu\")\n",
    "    print(f\"Training on {DEVICE} using PyTorch {torch.__version__} and Flower {fl.__version__}\")\n",
    "else:\n",
    "    DEVICE = torch.device(\"cpu\")\n",
    "    print(f\"Training on {DEVICE} using PyTorch {torch.__version__} and Flower {fl.__version__}\")"
   ]
  },
  {
   "cell_type": "code",
   "execution_count": 4,
   "id": "5d29de6e-044b-43d3-b41c-207cf0a6f76e",
   "metadata": {},
   "outputs": [],
   "source": [
    "CLASSES = (\n",
    "    \"glioma\",\n",
    "    \"meningioma\",\n",
    "    \"notumor\",\n",
    "    \"pituitary\",\n",
    "    \n",
    ")"
   ]
  },
  {
   "cell_type": "code",
   "execution_count": 5,
   "id": "dc686000-f864-4e2a-9471-6235e8206736",
   "metadata": {},
   "outputs": [],
   "source": [
    "NUM_CLIENTS = 10\n",
    "BATCH_SIZE = 64\n",
    "CLIENT_EPOCHS = 5\n",
    "NR_ROUNDS = 15   # nr of rounds the federated learning should do\n",
    "LEARNING_RATE = 0.0001\n",
    "\n",
    "TIME = time.time()\n",
    "TIME_ = time.time()\n",
    "\n",
    "accuracies = []\n",
    "losses = []\n",
    "\n",
    "predicted_ = []\n",
    "true_ = []"
   ]
  },
  {
   "cell_type": "code",
   "execution_count": 6,
   "id": "b9143441-43b7-4aa9-9238-6d9ca9e6db4f",
   "metadata": {},
   "outputs": [
    {
     "name": "stdout",
     "output_type": "stream",
     "text": [
      "5175\n",
      "[518, 518, 518, 518, 518, 517, 517, 517, 517, 517]\n",
      "5\n"
     ]
    }
   ],
   "source": [
    "# Get the new dataset for Brain tumor MRI scans\n",
    "def load_datasets():\n",
    "    # Make sure all the images are of the same size. Transform in ImageFolder\n",
    "    transform = transforms.Compose([transforms.ToTensor(), transforms.Resize(size=(224, 224)), transforms.Normalize((0.5, 0.5, 0.5), (0.5, 0.5, 0.5))])\n",
    "    \n",
    "    \n",
    "    #Federated_learning_flower/dataset/brain_tumor_mri/Training\n",
    "    train_data = ImageFolder(root='dataset/brain_tumor_mri/Training', transform=transform)\n",
    "    test_data = ImageFolder(root='dataset/brain_tumor_mri/Testing', transform=transform)\n",
    "\n",
    "    # Split datasets into number of clients.\n",
    "    #partition_size = int(len(train_data) / NUM_CLIENTS)\n",
    "    partition_size = len(train_data) // NUM_CLIENTS\n",
    "    remainders = len(train_data) % NUM_CLIENTS\n",
    "    percentage = NUM_CLIENTS / 100\n",
    "    lengths = [partition_size] * NUM_CLIENTS\n",
    "    #lengths = [percentage] * NUM_CLIENTS\n",
    "    num = remainders\n",
    "    for i in range(len(lengths)):\n",
    "        if num > 0:\n",
    "            lengths[i] = lengths[i] + 1\n",
    "        num -= 1\n",
    "    generator = torch.Generator().manual_seed(42)\n",
    "    print(len(train_data))\n",
    "    print(lengths)\n",
    "    print(remainders)\n",
    "    datasets = random_split(train_data, lengths, generator=generator)\n",
    "\n",
    "    # Create trainloaders and valloaders\n",
    "    trainloaders = []\n",
    "    valloaders = []\n",
    "    for i in datasets:\n",
    "        len_val = len(i) // NUM_CLIENTS\n",
    "        len_train = len(i) - len_val\n",
    "        lengths = [len_train, len_val]\n",
    "        #print(f'len train:{len_train}, len_val: {len_val}')\n",
    "        i_train, i_val = random_split(i, lengths, torch.Generator().manual_seed(42))\n",
    "\n",
    "        i_trainloader = DataLoader(i_train, batch_size=BATCH_SIZE, shuffle=True)\n",
    "        i_valloader = DataLoader(i_val, batch_size=BATCH_SIZE)\n",
    "        trainloaders.append(i_trainloader)\n",
    "        valloaders.append(i_valloader)\n",
    "\n",
    "    testloader = DataLoader(test_data, batch_size=BATCH_SIZE)\n",
    "\n",
    "    return trainloaders, valloaders, testloader\n",
    "\n",
    "trainloaders, valloaders, testloader = load_datasets()"
   ]
  },
  {
   "cell_type": "code",
   "execution_count": 7,
   "id": "631eba99-640a-4f6a-a1fb-a52a349ab47e",
   "metadata": {},
   "outputs": [],
   "source": [
    "\n",
    "class Net(nn.Module):\n",
    "    def __init__(self) -> None:\n",
    "        super(Net, self).__init__()\n",
    "        self.conv1 = nn.Conv2d(3, 6, kernel_size=3, padding=1)\n",
    "        self.pool = nn.MaxPool2d(2, 2)\n",
    "        self.conv2 = nn.Conv2d(6, 16, kernel_size=3, padding=1)\n",
    "        self.fc1 = nn.Linear(16 * 56 * 56, 120)\n",
    "        #self.fc1 = nn.Linear(16 * 3 * 3, 120)\n",
    "        self.fc2 = nn.Linear(120, 84)\n",
    "        self.fc3 = nn.Linear(84, 4)\n",
    "\n",
    "    def forward(self, x: torch.Tensor) -> torch.Tensor:\n",
    "        x = self.pool(F.relu(self.conv1(x)))\n",
    "        x = self.pool(F.relu(self.conv2(x)))\n",
    "        #x = x.view(-1, 16 * 3 * 3)\n",
    "        #print('x_shape:',x.shape)\n",
    "        x = x.view(-1, 16 * 56 * 56)\n",
    "        #x = torch.flatten(x,1)\n",
    "        x = F.relu(self.fc1(x))\n",
    "        x = F.relu(self.fc2(x))\n",
    "        x = self.fc3(x)\n",
    "        return x\n"
   ]
  },
  {
   "cell_type": "code",
   "execution_count": 8,
   "id": "3ac32a1a-f178-49cf-b787-32d322b9cdcb",
   "metadata": {},
   "outputs": [
    {
     "data": {
      "text/plain": [
       "'\\n# VGG16\\nclass Net(nn.Module):\\n    def __init__(self) -> None:\\n        super(Net, self).__init__()     \\n        # Define the convolutional layers\\n        self.conv1 = nn.Conv2d(3, 64, kernel_size=3, padding=1)\\n        self.conv2 = nn.Conv2d(64, 64, kernel_size=3, padding=1)\\n        self.conv3 = nn.Conv2d(64, 128, kernel_size=3, padding=1)\\n        self.conv4 = nn.Conv2d(128, 128, kernel_size=3, padding=1)\\n        self.conv5 = nn.Conv2d(128, 256, kernel_size=3, padding=1)\\n        self.conv6 = nn.Conv2d(256, 256, kernel_size=3, padding=1)\\n        self.conv7 = nn.Conv2d(256, 256, kernel_size=3, padding=1)\\n        self.conv8 = nn.Conv2d(256, 512 ,kernel_size=3 ,padding=1)\\n        self.conv9 = nn.Conv2d(512 ,512 ,kernel_size=3 ,padding=1)\\n        self.conv10 = nn.Conv2d(512 ,512 ,kernel_size=3 ,padding=1)\\n        self.conv11 = nn.Conv2d(512 ,512 ,kernel_size=3 ,padding=1)\\n        self.conv12 = nn.Conv2d(512 ,512 ,kernel_size=3 ,padding=1)\\n        self.conv13 = nn.Conv2d(512 ,512 ,kernel_size=3 ,padding=1)\\n\\n        # Define the pooling layer\\n        self.pool = nn.MaxPool2d(kernel_size=(2), stride=(2))\\n        self.relu = nn.ReLU(True)\\n        self.dropout = nn.Dropout(0.3)  # Dropout to help avoid overfitting\\n\\n        # Define the fully connected layers\\n        self.fc14 = nn.Linear(in_features=(25088), out_features=(4096))\\n        self.fc15 =nn.Linear(in_features=(4096), out_features=(4096))\\n        self.fc16 =nn.Linear(in_features=(4096), out_features=(10))\\n        \\n         # Define the output layer\\n         # Note: num_classes is a parameter that can be changed according to the dataset\\n         # For example: num_classes can be set to 1000 for ImageNet dataset\\n         # or 10 for CIFAR-10 dataset\\n\\n    def forward(self, x: torch.Tensor) -> torch.Tensor:\\n        x = self.conv1(x)\\n        x = self.conv2(x)\\n        x = self.pool(x)\\n        \\n        x = self.conv3(x)\\n        x = self.conv4(x)\\n        x = self.pool(x)\\n        \\n        x = self.conv5(x)\\n        x = self.conv6(x)\\n        x = self.conv7(x)\\n        x = self.pool(x)\\n        \\n        x = self.conv8(x)\\n        x = self.conv9(x)\\n        x = self.conv10(x)\\n        x = self.pool(x)\\n        \\n        x = self.conv11(x)\\n        x = self.conv12(x)\\n        x = self.conv13(x)\\n        x = self.pool(x)\\n        \\n        x = torch.flatten(x,1)\\n        \\n        x = self.fc14(x)\\n        x = self.relu(x)\\n        x = self.dropout(x)\\n        x = self.fc15(x)\\n        x = self.relu(x)\\n        x = self.dropout(x)\\n        x = self.fc16(x)\\n        \\n        return x\\n'"
      ]
     },
     "execution_count": 8,
     "metadata": {},
     "output_type": "execute_result"
    }
   ],
   "source": [
    "'''\n",
    "# VGG16\n",
    "class Net(nn.Module):\n",
    "    def __init__(self) -> None:\n",
    "        super(Net, self).__init__()     \n",
    "        # Define the convolutional layers\n",
    "        self.conv1 = nn.Conv2d(3, 64, kernel_size=3, padding=1)\n",
    "        self.conv2 = nn.Conv2d(64, 64, kernel_size=3, padding=1)\n",
    "        self.conv3 = nn.Conv2d(64, 128, kernel_size=3, padding=1)\n",
    "        self.conv4 = nn.Conv2d(128, 128, kernel_size=3, padding=1)\n",
    "        self.conv5 = nn.Conv2d(128, 256, kernel_size=3, padding=1)\n",
    "        self.conv6 = nn.Conv2d(256, 256, kernel_size=3, padding=1)\n",
    "        self.conv7 = nn.Conv2d(256, 256, kernel_size=3, padding=1)\n",
    "        self.conv8 = nn.Conv2d(256, 512 ,kernel_size=3 ,padding=1)\n",
    "        self.conv9 = nn.Conv2d(512 ,512 ,kernel_size=3 ,padding=1)\n",
    "        self.conv10 = nn.Conv2d(512 ,512 ,kernel_size=3 ,padding=1)\n",
    "        self.conv11 = nn.Conv2d(512 ,512 ,kernel_size=3 ,padding=1)\n",
    "        self.conv12 = nn.Conv2d(512 ,512 ,kernel_size=3 ,padding=1)\n",
    "        self.conv13 = nn.Conv2d(512 ,512 ,kernel_size=3 ,padding=1)\n",
    "\n",
    "        # Define the pooling layer\n",
    "        self.pool = nn.MaxPool2d(kernel_size=(2), stride=(2))\n",
    "        self.relu = nn.ReLU(True)\n",
    "        self.dropout = nn.Dropout(0.3)  # Dropout to help avoid overfitting\n",
    "\n",
    "        # Define the fully connected layers\n",
    "        self.fc14 = nn.Linear(in_features=(25088), out_features=(4096))\n",
    "        self.fc15 =nn.Linear(in_features=(4096), out_features=(4096))\n",
    "        self.fc16 =nn.Linear(in_features=(4096), out_features=(10))\n",
    "        \n",
    "         # Define the output layer\n",
    "         # Note: num_classes is a parameter that can be changed according to the dataset\n",
    "         # For example: num_classes can be set to 1000 for ImageNet dataset\n",
    "         # or 10 for CIFAR-10 dataset\n",
    "\n",
    "    def forward(self, x: torch.Tensor) -> torch.Tensor:\n",
    "        x = self.conv1(x)\n",
    "        x = self.conv2(x)\n",
    "        x = self.pool(x)\n",
    "        \n",
    "        x = self.conv3(x)\n",
    "        x = self.conv4(x)\n",
    "        x = self.pool(x)\n",
    "        \n",
    "        x = self.conv5(x)\n",
    "        x = self.conv6(x)\n",
    "        x = self.conv7(x)\n",
    "        x = self.pool(x)\n",
    "        \n",
    "        x = self.conv8(x)\n",
    "        x = self.conv9(x)\n",
    "        x = self.conv10(x)\n",
    "        x = self.pool(x)\n",
    "        \n",
    "        x = self.conv11(x)\n",
    "        x = self.conv12(x)\n",
    "        x = self.conv13(x)\n",
    "        x = self.pool(x)\n",
    "        \n",
    "        x = torch.flatten(x,1)\n",
    "        \n",
    "        x = self.fc14(x)\n",
    "        x = self.relu(x)\n",
    "        x = self.dropout(x)\n",
    "        x = self.fc15(x)\n",
    "        x = self.relu(x)\n",
    "        x = self.dropout(x)\n",
    "        x = self.fc16(x)\n",
    "        \n",
    "        return x\n",
    "'''"
   ]
  },
  {
   "cell_type": "code",
   "execution_count": 9,
   "id": "f2642a45-341b-4cd8-b1f6-a7e8a39f7059",
   "metadata": {},
   "outputs": [],
   "source": [
    "# Simpler model\n"
   ]
  },
  {
   "cell_type": "code",
   "execution_count": 10,
   "id": "cc441234-fd9d-4b81-b62f-96cb1c6fd5f8",
   "metadata": {},
   "outputs": [],
   "source": [
    "def train(net, trainloader, epochs: int, verbose=False):\n",
    "    \"\"\"Train the network on the training set.\"\"\"\n",
    "    #print('train function running!')\n",
    "    criterion = torch.nn.CrossEntropyLoss()\n",
    "    optimizer = torch.optim.Adam(net.parameters())\n",
    "    net.train()\n",
    "    for epoch in range(epochs):\n",
    "        correct, total, epoch_loss = 0, 0, 0.0\n",
    "        for images, labels in trainloader:\n",
    "            images, labels = images.to(DEVICE), labels.to(DEVICE)\n",
    "            optimizer.zero_grad()\n",
    "            #print(f'data shape: {images.shape}')\n",
    "            outputs = net(images)\n",
    "            loss = criterion(outputs, labels)\n",
    "            loss.backward()\n",
    "            optimizer.step()\n",
    "            # Metrics\n",
    "            epoch_loss += loss\n",
    "            total += labels.size(0)\n",
    "            correct += (torch.max(outputs.data, 1)[1] == labels).sum().item()\n",
    "        epoch_loss /= len(trainloader.dataset)\n",
    "        epoch_acc = correct / total\n",
    "        if verbose:\n",
    "            print(f\"Epoch {epoch+1}: train loss {epoch_loss}, accuracy {epoch_acc}\")\n",
    "\n",
    "\n",
    "def test(net, testloader):\n",
    "    \"\"\"Evaluate the network on the entire test set.\"\"\"\n",
    "    criterion = torch.nn.CrossEntropyLoss()\n",
    "    correct, total, loss = 0, 0, 0.0\n",
    "    net.eval()\n",
    "    with torch.no_grad():\n",
    "        for images, labels in testloader:\n",
    "            images, labels = images.to(DEVICE), labels.to(DEVICE)\n",
    "            outputs = net(images)\n",
    "            loss += criterion(outputs, labels).item()\n",
    "            _, predicted = torch.max(outputs.data, 1)\n",
    "            total += labels.size(0)\n",
    "            predicted_.append(predicted)    # Add predicted to list so it is possible to create confusion matrix\n",
    "            true_.append(labels)\n",
    "            correct += (predicted == labels).sum().item()\n",
    "    loss /= len(testloader.dataset)\n",
    "    accuracy = correct / total\n",
    "    return loss, accuracy"
   ]
  },
  {
   "cell_type": "code",
   "execution_count": 11,
   "id": "3c75cc8a-6a50-4706-84d9-c2eb7ce6f1f6",
   "metadata": {},
   "outputs": [],
   "source": [
    "def get_parameters(net) -> List[np.ndarray]:\n",
    "    #print('get_parameters. state_dict')\n",
    "    return [val.cpu().numpy() for _, val in net.state_dict().items()]\n",
    "\n",
    "\n",
    "def set_parameters(net, parameters: List[np.ndarray]):\n",
    "    #print('set_parameters. state_dict')\n",
    "    params_dict = zip(net.state_dict().keys(), parameters)\n",
    "    state_dict = OrderedDict({k: torch.Tensor(v) for k, v in params_dict})\n",
    "    net.load_state_dict(state_dict, strict=True)"
   ]
  },
  {
   "cell_type": "code",
   "execution_count": 12,
   "id": "2d3de7b4-9dac-4d37-b561-ad9dd7da6a01",
   "metadata": {},
   "outputs": [],
   "source": [
    "class FlowerClient(fl.client.NumPyClient):\n",
    "    def __init__(self, net, trainloader, valloader):\n",
    "        self.net = net\n",
    "        self.trainloader = trainloader\n",
    "        self.valloader = valloader\n",
    "\n",
    "    def get_parameters(self, config):\n",
    "        return get_parameters(self.net)\n",
    "\n",
    "    def fit(self, parameters, config):\n",
    "        set_parameters(self.net, parameters)\n",
    "        train(self.net, self.trainloader, epochs=CLIENT_EPOCHS)\n",
    "        #print('fittin!')\n",
    "        return get_parameters(self.net), len(self.trainloader), {}\n",
    "\n",
    "    def evaluate(self, parameters, config):\n",
    "        set_parameters(self.net, parameters)\n",
    "        loss, accuracy = test(self.net, self.valloader)\n",
    "        return float(loss), len(self.valloader), {\"accuracy\": float(accuracy)}"
   ]
  },
  {
   "cell_type": "code",
   "execution_count": 13,
   "id": "5c828972-8ac8-41b6-af9e-36911c0e20a1",
   "metadata": {},
   "outputs": [],
   "source": [
    "def client_fn(cid: str) -> FlowerClient:\n",
    "    \"\"\"Create a Flower client representing a single organization.\"\"\"\n",
    "    \n",
    "    # Load model\n",
    "    net = Net().to(DEVICE)\n",
    "\n",
    "    # Load data (CIFAR-10)\n",
    "    # Note: each client gets a different trainloader/valloader, so each client\n",
    "    # will train and evaluate on their own unique data\n",
    "    trainloader = trainloaders[int(cid)]\n",
    "    valloader = valloaders[int(cid)]\n",
    "    #print(f'client_fn, train and valloader nr {int(cid)}')\n",
    "    \n",
    "    # Create a  single Flower client representing a single organization\n",
    "    return FlowerClient(net, trainloader, valloader)"
   ]
  },
  {
   "cell_type": "code",
   "execution_count": 14,
   "id": "10a764a8-efc8-4c94-b084-50fa81a0ea6c",
   "metadata": {},
   "outputs": [],
   "source": [
    "def weighted_average(metrics: List[Tuple[int, Metrics]]) -> Metrics:\n",
    "    # Multiply accuracy of each client by number of examples used\n",
    "    accuracies = [num_examples * m[\"accuracy\"] for num_examples, m in metrics]\n",
    "    examples = [num_examples for num_examples, _ in metrics]\n",
    "\n",
    "    # Aggregate and return custom metric (weighted average)\n",
    "    return {\"accuracy\": sum(accuracies) / sum(examples)}"
   ]
  },
  {
   "cell_type": "code",
   "execution_count": 15,
   "id": "5194dec3-63ac-47d9-b70f-5911ba84c534",
   "metadata": {},
   "outputs": [],
   "source": [
    "# The `evaluate` function will be by Flower called after every round\n",
    "# Centralized evaluation of the aggregated model\n",
    "\n",
    "def evaluate(\n",
    "    server_round: int,\n",
    "    parameters: fl.common.NDArrays,\n",
    "    config: Dict[str, fl.common.Scalar],\n",
    ") -> Optional[Tuple[float, Dict[str, fl.common.Scalar]]]:\n",
    "    net = Net().to(DEVICE)\n",
    "    valloader = valloaders[0]\n",
    "    set_parameters(net, parameters)  # Update model with the latest parameters\n",
    "    loss, accuracy = test(net, valloader)\n",
    "    print(f\"Server-side evaluation loss {loss} / accuracy {accuracy}, round {server_round}\")\n",
    "    accuracies.append(accuracy)\n",
    "    losses.append(loss)\n",
    "    time_now = time.time()\n",
    "    time_sofar = time_now - TIME\n",
    "    #time_used = time_now - TIME_\n",
    "    #TIME_ = time.time()\n",
    "    #print(f'Time used on this round: {time_used}')\n",
    "    print(f'Time used so far: {time_sofar}')\n",
    "    return loss, {\"accuracy\": accuracy}\n"
   ]
  },
  {
   "cell_type": "code",
   "execution_count": 16,
   "id": "dfb5bffc-8837-48d9-8446-c0f1625d0c4f",
   "metadata": {},
   "outputs": [],
   "source": [
    "# Function making it possible to sent parameters to the clients\n",
    "def get_on_fit_config_fn() -> Callable[[int], Dict[str, str]]:\n",
    "    \"\"\"Return a function which returns training configurations.\"\"\"\n",
    "\n",
    "    def fit_config(server_round: int) -> Dict[str, str]:\n",
    "        \"\"\"Return a configuration with static batch size and (local) epochs.\"\"\"\n",
    "        config = {\n",
    "            \"learning_rate\": str(LEARNING_RATE),\n",
    "            \"batch_size\": str(BATCH_SIZE),\n",
    "        }\n",
    "        return config\n",
    "\n",
    "    return fit_config"
   ]
  },
  {
   "cell_type": "code",
   "execution_count": 17,
   "id": "5984b294-c6aa-48d6-8672-c69997ddf032",
   "metadata": {},
   "outputs": [
    {
     "name": "stderr",
     "output_type": "stream",
     "text": [
      "INFO flwr 2023-04-18 11:10:36,397 | app.py:145 | Starting Flower simulation, config: ServerConfig(num_rounds=15, round_timeout=None)\n",
      "2023-04-18 11:10:38,789\tINFO worker.py:1538 -- Started a local Ray instance.\n",
      "INFO flwr 2023-04-18 11:10:40,461 | app.py:179 | Flower VCE: Ray initialized with resources: {'CPU': 12.0, 'GPU': 16.0, 'node:192.168.4.146': 1.0, 'accelerator_type:V100': 1.0, 'object_store_memory': 24845522534.0, 'memory': 49691045070.0}\n",
      "INFO flwr 2023-04-18 11:10:40,464 | server.py:86 | Initializing global parameters\n",
      "INFO flwr 2023-04-18 11:10:40,465 | server.py:270 | Requesting initial parameters from one random client\n",
      "\u001b[2m\u001b[36m(launch_and_get_parameters pid=6118)\u001b[0m /opt/conda/lib/python3.8/site-packages/torch/nn/modules/module.py:1383: UserWarning: positional arguments and argument \"destination\" are deprecated. nn.Module.state_dict will not accept them in the future. Refer to https://pytorch.org/docs/master/generated/torch.nn.Module.html#torch.nn.Module.state_dict for details.\n",
      "\u001b[2m\u001b[36m(launch_and_get_parameters pid=6118)\u001b[0m   warnings.warn(\n",
      "INFO flwr 2023-04-18 11:10:41,570 | server.py:274 | Received initial parameters from one random client\n",
      "INFO flwr 2023-04-18 11:10:41,571 | server.py:88 | Evaluating initial parameters\n",
      "/opt/conda/lib/python3.8/site-packages/torch/nn/modules/module.py:1383: UserWarning: positional arguments and argument \"destination\" are deprecated. nn.Module.state_dict will not accept them in the future. Refer to https://pytorch.org/docs/master/generated/torch.nn.Module.html#torch.nn.Module.state_dict for details.\n",
      "  warnings.warn(\n",
      "INFO flwr 2023-04-18 11:10:44,901 | server.py:91 | initial parameters (loss, other metrics): 0.027108264904396207, {'accuracy': 0.2549019607843137}\n",
      "INFO flwr 2023-04-18 11:10:44,983 | server.py:101 | FL starting\n",
      "DEBUG flwr 2023-04-18 11:10:44,985 | server.py:215 | fit_round 1: strategy sampled 10 clients (out of 10)\n"
     ]
    },
    {
     "name": "stdout",
     "output_type": "stream",
     "text": [
      "Server-side evaluation loss 0.027108264904396207 / accuracy 0.2549019607843137, round 0\n",
      "Time used so far: 8.886254787445068\n"
     ]
    },
    {
     "name": "stderr",
     "output_type": "stream",
     "text": [
      "\u001b[2m\u001b[36m(launch_and_fit pid=6121)\u001b[0m /opt/conda/lib/python3.8/site-packages/torch/nn/modules/module.py:1383: UserWarning: positional arguments and argument \"destination\" are deprecated. nn.Module.state_dict will not accept them in the future. Refer to https://pytorch.org/docs/master/generated/torch.nn.Module.html#torch.nn.Module.state_dict for details.\n",
      "\u001b[2m\u001b[36m(launch_and_fit pid=6121)\u001b[0m   warnings.warn(\n",
      "\u001b[2m\u001b[36m(launch_and_fit pid=6109)\u001b[0m /opt/conda/lib/python3.8/site-packages/torch/nn/modules/module.py:1383: UserWarning: positional arguments and argument \"destination\" are deprecated. nn.Module.state_dict will not accept them in the future. Refer to https://pytorch.org/docs/master/generated/torch.nn.Module.html#torch.nn.Module.state_dict for details.\n",
      "\u001b[2m\u001b[36m(launch_and_fit pid=6109)\u001b[0m   warnings.warn(\n",
      "\u001b[2m\u001b[36m(launch_and_fit pid=6119)\u001b[0m /opt/conda/lib/python3.8/site-packages/torch/nn/modules/module.py:1383: UserWarning: positional arguments and argument \"destination\" are deprecated. nn.Module.state_dict will not accept them in the future. Refer to https://pytorch.org/docs/master/generated/torch.nn.Module.html#torch.nn.Module.state_dict for details.\n",
      "\u001b[2m\u001b[36m(launch_and_fit pid=6119)\u001b[0m   warnings.warn(\n",
      "\u001b[2m\u001b[36m(launch_and_fit pid=6111)\u001b[0m /opt/conda/lib/python3.8/site-packages/torch/nn/modules/module.py:1383: UserWarning: positional arguments and argument \"destination\" are deprecated. nn.Module.state_dict will not accept them in the future. Refer to https://pytorch.org/docs/master/generated/torch.nn.Module.html#torch.nn.Module.state_dict for details.\n",
      "\u001b[2m\u001b[36m(launch_and_fit pid=6111)\u001b[0m   warnings.warn(\n",
      "\u001b[2m\u001b[36m(launch_and_fit pid=6117)\u001b[0m /opt/conda/lib/python3.8/site-packages/torch/nn/modules/module.py:1383: UserWarning: positional arguments and argument \"destination\" are deprecated. nn.Module.state_dict will not accept them in the future. Refer to https://pytorch.org/docs/master/generated/torch.nn.Module.html#torch.nn.Module.state_dict for details.\n",
      "\u001b[2m\u001b[36m(launch_and_fit pid=6117)\u001b[0m   warnings.warn(\n",
      "\u001b[2m\u001b[36m(launch_and_fit pid=6112)\u001b[0m /opt/conda/lib/python3.8/site-packages/torch/nn/modules/module.py:1383: UserWarning: positional arguments and argument \"destination\" are deprecated. nn.Module.state_dict will not accept them in the future. Refer to https://pytorch.org/docs/master/generated/torch.nn.Module.html#torch.nn.Module.state_dict for details.\n",
      "\u001b[2m\u001b[36m(launch_and_fit pid=6112)\u001b[0m   warnings.warn(\n",
      "\u001b[2m\u001b[36m(launch_and_fit pid=6113)\u001b[0m /opt/conda/lib/python3.8/site-packages/torch/nn/modules/module.py:1383: UserWarning: positional arguments and argument \"destination\" are deprecated. nn.Module.state_dict will not accept them in the future. Refer to https://pytorch.org/docs/master/generated/torch.nn.Module.html#torch.nn.Module.state_dict for details.\n",
      "\u001b[2m\u001b[36m(launch_and_fit pid=6113)\u001b[0m   warnings.warn(\n",
      "\u001b[2m\u001b[36m(launch_and_fit pid=6114)\u001b[0m /opt/conda/lib/python3.8/site-packages/torch/nn/modules/module.py:1383: UserWarning: positional arguments and argument \"destination\" are deprecated. nn.Module.state_dict will not accept them in the future. Refer to https://pytorch.org/docs/master/generated/torch.nn.Module.html#torch.nn.Module.state_dict for details.\n",
      "\u001b[2m\u001b[36m(launch_and_fit pid=6114)\u001b[0m   warnings.warn(\n",
      "\u001b[2m\u001b[36m(launch_and_fit pid=6122)\u001b[0m /opt/conda/lib/python3.8/site-packages/torch/nn/modules/module.py:1383: UserWarning: positional arguments and argument \"destination\" are deprecated. nn.Module.state_dict will not accept them in the future. Refer to https://pytorch.org/docs/master/generated/torch.nn.Module.html#torch.nn.Module.state_dict for details.\n",
      "\u001b[2m\u001b[36m(launch_and_fit pid=6122)\u001b[0m   warnings.warn(\n",
      "DEBUG flwr 2023-04-18 11:11:59,392 | server.py:229 | fit_round 1 received 10 results and 0 failures\n",
      "WARNING flwr 2023-04-18 11:11:59,733 | fedavg.py:242 | No fit_metrics_aggregation_fn provided\n",
      "INFO flwr 2023-04-18 11:12:01,400 | server.py:116 | fit progress: (1, 0.019538920299679626, {'accuracy': 0.6666666666666666}, 76.41609404049814)\n",
      "DEBUG flwr 2023-04-18 11:12:01,479 | server.py:165 | evaluate_round 1: strategy sampled 10 clients (out of 10)\n"
     ]
    },
    {
     "name": "stdout",
     "output_type": "stream",
     "text": [
      "Server-side evaluation loss 0.019538920299679626 / accuracy 0.6666666666666666, round 1\n",
      "Time used so far: 85.38951182365417\n"
     ]
    },
    {
     "name": "stderr",
     "output_type": "stream",
     "text": [
      "DEBUG flwr 2023-04-18 11:12:02,973 | server.py:179 | evaluate_round 1 received 10 results and 0 failures\n",
      "DEBUG flwr 2023-04-18 11:12:02,974 | server.py:215 | fit_round 2: strategy sampled 10 clients (out of 10)\n",
      "DEBUG flwr 2023-04-18 11:13:12,528 | server.py:229 | fit_round 2 received 10 results and 0 failures\n",
      "INFO flwr 2023-04-18 11:13:14,385 | server.py:116 | fit progress: (2, 0.010860473501916025, {'accuracy': 0.7843137254901961}, 149.3999168742448)\n",
      "DEBUG flwr 2023-04-18 11:13:14,389 | server.py:165 | evaluate_round 2: strategy sampled 10 clients (out of 10)\n"
     ]
    },
    {
     "name": "stdout",
     "output_type": "stream",
     "text": [
      "Server-side evaluation loss 0.010860473501916025 / accuracy 0.7843137254901961, round 2\n",
      "Time used so far: 158.37306785583496\n"
     ]
    },
    {
     "name": "stderr",
     "output_type": "stream",
     "text": [
      "DEBUG flwr 2023-04-18 11:13:16,150 | server.py:179 | evaluate_round 2 received 10 results and 0 failures\n",
      "DEBUG flwr 2023-04-18 11:13:16,152 | server.py:215 | fit_round 3: strategy sampled 10 clients (out of 10)\n",
      "DEBUG flwr 2023-04-18 11:14:25,740 | server.py:229 | fit_round 3 received 10 results and 0 failures\n",
      "INFO flwr 2023-04-18 11:14:27,799 | server.py:116 | fit progress: (3, 0.010818456902223475, {'accuracy': 0.8235294117647058}, 222.8144168239087)\n",
      "DEBUG flwr 2023-04-18 11:14:27,879 | server.py:165 | evaluate_round 3: strategy sampled 10 clients (out of 10)\n"
     ]
    },
    {
     "name": "stdout",
     "output_type": "stream",
     "text": [
      "Server-side evaluation loss 0.010818456902223475 / accuracy 0.8235294117647058, round 3\n",
      "Time used so far: 231.78770232200623\n"
     ]
    },
    {
     "name": "stderr",
     "output_type": "stream",
     "text": [
      "DEBUG flwr 2023-04-18 11:14:29,567 | server.py:179 | evaluate_round 3 received 10 results and 0 failures\n",
      "DEBUG flwr 2023-04-18 11:14:29,569 | server.py:215 | fit_round 4: strategy sampled 10 clients (out of 10)\n",
      "DEBUG flwr 2023-04-18 11:15:38,103 | server.py:229 | fit_round 4 received 10 results and 0 failures\n",
      "INFO flwr 2023-04-18 11:15:39,999 | server.py:116 | fit progress: (4, 0.011158481532452153, {'accuracy': 0.8235294117647058}, 295.01447036862373)\n",
      "DEBUG flwr 2023-04-18 11:15:40,000 | server.py:165 | evaluate_round 4: strategy sampled 10 clients (out of 10)\n"
     ]
    },
    {
     "name": "stdout",
     "output_type": "stream",
     "text": [
      "Server-side evaluation loss 0.011158481532452153 / accuracy 0.8235294117647058, round 4\n",
      "Time used so far: 303.98786664009094\n"
     ]
    },
    {
     "name": "stderr",
     "output_type": "stream",
     "text": [
      "DEBUG flwr 2023-04-18 11:15:41,414 | server.py:179 | evaluate_round 4 received 10 results and 0 failures\n",
      "DEBUG flwr 2023-04-18 11:15:41,416 | server.py:215 | fit_round 5: strategy sampled 10 clients (out of 10)\n",
      "DEBUG flwr 2023-04-18 11:16:49,792 | server.py:229 | fit_round 5 received 10 results and 0 failures\n",
      "INFO flwr 2023-04-18 11:16:51,997 | server.py:116 | fit progress: (5, 0.010112396642273548, {'accuracy': 0.8627450980392157}, 367.0126696564257)\n",
      "DEBUG flwr 2023-04-18 11:16:52,001 | server.py:165 | evaluate_round 5: strategy sampled 10 clients (out of 10)\n"
     ]
    },
    {
     "name": "stdout",
     "output_type": "stream",
     "text": [
      "Server-side evaluation loss 0.010112396642273548 / accuracy 0.8627450980392157, round 5\n",
      "Time used so far: 375.98454213142395\n"
     ]
    },
    {
     "name": "stderr",
     "output_type": "stream",
     "text": [
      "DEBUG flwr 2023-04-18 11:16:53,606 | server.py:179 | evaluate_round 5 received 10 results and 0 failures\n",
      "DEBUG flwr 2023-04-18 11:16:53,607 | server.py:215 | fit_round 6: strategy sampled 10 clients (out of 10)\n",
      "DEBUG flwr 2023-04-18 11:18:02,935 | server.py:229 | fit_round 6 received 10 results and 0 failures\n",
      "INFO flwr 2023-04-18 11:18:04,998 | server.py:116 | fit progress: (6, 0.01080028917275223, {'accuracy': 0.8235294117647058}, 440.0138352140784)\n",
      "DEBUG flwr 2023-04-18 11:18:05,080 | server.py:165 | evaluate_round 6: strategy sampled 10 clients (out of 10)\n"
     ]
    },
    {
     "name": "stdout",
     "output_type": "stream",
     "text": [
      "Server-side evaluation loss 0.01080028917275223 / accuracy 0.8235294117647058, round 6\n",
      "Time used so far: 448.98712682724\n"
     ]
    },
    {
     "name": "stderr",
     "output_type": "stream",
     "text": [
      "DEBUG flwr 2023-04-18 11:18:06,494 | server.py:179 | evaluate_round 6 received 10 results and 0 failures\n",
      "DEBUG flwr 2023-04-18 11:18:06,495 | server.py:215 | fit_round 7: strategy sampled 10 clients (out of 10)\n",
      "DEBUG flwr 2023-04-18 11:19:15,024 | server.py:229 | fit_round 7 received 10 results and 0 failures\n",
      "INFO flwr 2023-04-18 11:19:17,001 | server.py:116 | fit progress: (7, 0.012483076722014184, {'accuracy': 0.8235294117647058}, 512.0165194328874)\n",
      "DEBUG flwr 2023-04-18 11:19:17,083 | server.py:165 | evaluate_round 7: strategy sampled 10 clients (out of 10)\n"
     ]
    },
    {
     "name": "stdout",
     "output_type": "stream",
     "text": [
      "Server-side evaluation loss 0.012483076722014184 / accuracy 0.8235294117647058, round 7\n",
      "Time used so far: 520.9872546195984\n"
     ]
    },
    {
     "name": "stderr",
     "output_type": "stream",
     "text": [
      "DEBUG flwr 2023-04-18 11:19:18,775 | server.py:179 | evaluate_round 7 received 10 results and 0 failures\n",
      "DEBUG flwr 2023-04-18 11:19:18,777 | server.py:215 | fit_round 8: strategy sampled 10 clients (out of 10)\n",
      "DEBUG flwr 2023-04-18 11:20:27,827 | server.py:229 | fit_round 8 received 10 results and 0 failures\n",
      "INFO flwr 2023-04-18 11:20:29,793 | server.py:116 | fit progress: (8, 0.012495051412021412, {'accuracy': 0.8235294117647058}, 584.8084312882274)\n",
      "DEBUG flwr 2023-04-18 11:20:29,797 | server.py:165 | evaluate_round 8: strategy sampled 10 clients (out of 10)\n"
     ]
    },
    {
     "name": "stdout",
     "output_type": "stream",
     "text": [
      "Server-side evaluation loss 0.012495051412021412 / accuracy 0.8235294117647058, round 8\n",
      "Time used so far: 593.7800877094269\n"
     ]
    },
    {
     "name": "stderr",
     "output_type": "stream",
     "text": [
      "DEBUG flwr 2023-04-18 11:20:31,429 | server.py:179 | evaluate_round 8 received 10 results and 0 failures\n",
      "DEBUG flwr 2023-04-18 11:20:31,431 | server.py:215 | fit_round 9: strategy sampled 10 clients (out of 10)\n",
      "DEBUG flwr 2023-04-18 11:21:39,862 | server.py:229 | fit_round 9 received 10 results and 0 failures\n",
      "INFO flwr 2023-04-18 11:21:41,588 | server.py:116 | fit progress: (9, 0.014432193017473408, {'accuracy': 0.8235294117647058}, 656.603082511574)\n",
      "DEBUG flwr 2023-04-18 11:21:41,590 | server.py:165 | evaluate_round 9: strategy sampled 10 clients (out of 10)\n"
     ]
    },
    {
     "name": "stdout",
     "output_type": "stream",
     "text": [
      "Server-side evaluation loss 0.014432193017473408 / accuracy 0.8235294117647058, round 9\n",
      "Time used so far: 665.5764214992523\n"
     ]
    },
    {
     "name": "stderr",
     "output_type": "stream",
     "text": [
      "DEBUG flwr 2023-04-18 11:21:43,129 | server.py:179 | evaluate_round 9 received 10 results and 0 failures\n",
      "DEBUG flwr 2023-04-18 11:21:43,131 | server.py:215 | fit_round 10: strategy sampled 10 clients (out of 10)\n",
      "DEBUG flwr 2023-04-18 11:22:50,850 | server.py:229 | fit_round 10 received 10 results and 0 failures\n",
      "INFO flwr 2023-04-18 11:22:52,497 | server.py:116 | fit progress: (10, 0.012458998782961977, {'accuracy': 0.8235294117647058}, 727.5125227440149)\n",
      "DEBUG flwr 2023-04-18 11:22:52,498 | server.py:165 | evaluate_round 10: strategy sampled 10 clients (out of 10)\n"
     ]
    },
    {
     "name": "stdout",
     "output_type": "stream",
     "text": [
      "Server-side evaluation loss 0.012458998782961977 / accuracy 0.8235294117647058, round 10\n",
      "Time used so far: 736.4854090213776\n"
     ]
    },
    {
     "name": "stderr",
     "output_type": "stream",
     "text": [
      "DEBUG flwr 2023-04-18 11:22:53,847 | server.py:179 | evaluate_round 10 received 10 results and 0 failures\n",
      "DEBUG flwr 2023-04-18 11:22:53,849 | server.py:215 | fit_round 11: strategy sampled 10 clients (out of 10)\n",
      "DEBUG flwr 2023-04-18 11:24:02,206 | server.py:229 | fit_round 11 received 10 results and 0 failures\n",
      "INFO flwr 2023-04-18 11:24:03,986 | server.py:116 | fit progress: (11, 0.011750596411087933, {'accuracy': 0.8431372549019608}, 799.0019300617278)\n",
      "DEBUG flwr 2023-04-18 11:24:03,988 | server.py:165 | evaluate_round 11: strategy sampled 10 clients (out of 10)\n"
     ]
    },
    {
     "name": "stdout",
     "output_type": "stream",
     "text": [
      "Server-side evaluation loss 0.011750596411087933 / accuracy 0.8431372549019608, round 11\n",
      "Time used so far: 807.9752771854401\n"
     ]
    },
    {
     "name": "stderr",
     "output_type": "stream",
     "text": [
      "DEBUG flwr 2023-04-18 11:24:05,426 | server.py:179 | evaluate_round 11 received 10 results and 0 failures\n",
      "DEBUG flwr 2023-04-18 11:24:05,427 | server.py:215 | fit_round 12: strategy sampled 10 clients (out of 10)\n",
      "DEBUG flwr 2023-04-18 11:25:13,917 | server.py:229 | fit_round 12 received 10 results and 0 failures\n",
      "INFO flwr 2023-04-18 11:25:15,792 | server.py:116 | fit progress: (12, 0.013073232828402052, {'accuracy': 0.8431372549019608}, 870.8076442535967)\n",
      "DEBUG flwr 2023-04-18 11:25:15,794 | server.py:165 | evaluate_round 12: strategy sampled 10 clients (out of 10)\n"
     ]
    },
    {
     "name": "stdout",
     "output_type": "stream",
     "text": [
      "Server-side evaluation loss 0.013073232828402052 / accuracy 0.8431372549019608, round 12\n",
      "Time used so far: 879.7810287475586\n"
     ]
    },
    {
     "name": "stderr",
     "output_type": "stream",
     "text": [
      "DEBUG flwr 2023-04-18 11:25:17,331 | server.py:179 | evaluate_round 12 received 10 results and 0 failures\n",
      "DEBUG flwr 2023-04-18 11:25:17,332 | server.py:215 | fit_round 13: strategy sampled 10 clients (out of 10)\n",
      "DEBUG flwr 2023-04-18 11:26:25,328 | server.py:229 | fit_round 13 received 10 results and 0 failures\n",
      "INFO flwr 2023-04-18 11:26:26,783 | server.py:116 | fit progress: (13, 0.0143621844403884, {'accuracy': 0.8431372549019608}, 941.798560956493)\n",
      "DEBUG flwr 2023-04-18 11:26:26,784 | server.py:165 | evaluate_round 13: strategy sampled 10 clients (out of 10)\n"
     ]
    },
    {
     "name": "stdout",
     "output_type": "stream",
     "text": [
      "Server-side evaluation loss 0.0143621844403884 / accuracy 0.8431372549019608, round 13\n",
      "Time used so far: 950.7719321250916\n"
     ]
    },
    {
     "name": "stderr",
     "output_type": "stream",
     "text": [
      "DEBUG flwr 2023-04-18 11:26:28,191 | server.py:179 | evaluate_round 13 received 10 results and 0 failures\n",
      "DEBUG flwr 2023-04-18 11:26:28,193 | server.py:215 | fit_round 14: strategy sampled 10 clients (out of 10)\n",
      "DEBUG flwr 2023-04-18 11:27:36,445 | server.py:229 | fit_round 14 received 10 results and 0 failures\n",
      "INFO flwr 2023-04-18 11:27:38,795 | server.py:116 | fit progress: (14, 0.01354542666790532, {'accuracy': 0.8431372549019608}, 1013.8102220501751)\n",
      "DEBUG flwr 2023-04-18 11:27:38,801 | server.py:165 | evaluate_round 14: strategy sampled 10 clients (out of 10)\n"
     ]
    },
    {
     "name": "stdout",
     "output_type": "stream",
     "text": [
      "Server-side evaluation loss 0.01354542666790532 / accuracy 0.8431372549019608, round 14\n",
      "Time used so far: 1022.7835640907288\n"
     ]
    },
    {
     "name": "stderr",
     "output_type": "stream",
     "text": [
      "DEBUG flwr 2023-04-18 11:27:40,174 | server.py:179 | evaluate_round 14 received 10 results and 0 failures\n",
      "DEBUG flwr 2023-04-18 11:27:40,176 | server.py:215 | fit_round 15: strategy sampled 10 clients (out of 10)\n",
      "DEBUG flwr 2023-04-18 11:28:48,501 | server.py:229 | fit_round 15 received 10 results and 0 failures\n",
      "INFO flwr 2023-04-18 11:28:50,495 | server.py:116 | fit progress: (15, 0.013189981965457691, {'accuracy': 0.8627450980392157}, 1085.5108426958323)\n",
      "DEBUG flwr 2023-04-18 11:28:50,497 | server.py:165 | evaluate_round 15: strategy sampled 10 clients (out of 10)\n"
     ]
    },
    {
     "name": "stdout",
     "output_type": "stream",
     "text": [
      "Server-side evaluation loss 0.013189981965457691 / accuracy 0.8627450980392157, round 15\n",
      "Time used so far: 1094.4841566085815\n"
     ]
    },
    {
     "name": "stderr",
     "output_type": "stream",
     "text": [
      "DEBUG flwr 2023-04-18 11:28:51,963 | server.py:179 | evaluate_round 15 received 10 results and 0 failures\n",
      "INFO flwr 2023-04-18 11:28:51,964 | server.py:144 | FL finished in 1086.9801259357482\n",
      "INFO flwr 2023-04-18 11:28:51,967 | app.py:202 | app_fit: losses_distributed [(1, 0.01994631418994829), (2, 0.010986526573405547), (3, 0.009870655396405388), (4, 0.009454600922032898), (5, 0.009395891135814145), (6, 0.009473355172895917), (7, 0.00920075519996531), (8, 0.009096667842537749), (9, 0.010371064292449576), (10, 0.009491091645231434), (11, 0.009596948281807056), (12, 0.010023911092795578), (13, 0.010680043828838012), (14, 0.011280667840265763), (15, 0.01095075516724119)]\n",
      "INFO flwr 2023-04-18 11:28:51,968 | app.py:203 | app_fit: metrics_distributed {'accuracy': [(1, 0.6313725490196078), (2, 0.784313725490196), (3, 0.8274509803921568), (4, 0.8372549019607843), (5, 0.8470588235294118), (6, 0.8588235294117647), (7, 0.8666666666666666), (8, 0.8745098039215685), (9, 0.8647058823529413), (10, 0.8843137254901962), (11, 0.8823529411764707), (12, 0.8823529411764705), (13, 0.8862745098039216), (14, 0.8960784313725492), (15, 0.9)]}\n",
      "INFO flwr 2023-04-18 11:28:51,969 | app.py:204 | app_fit: losses_centralized [(0, 0.027108264904396207), (1, 0.019538920299679626), (2, 0.010860473501916025), (3, 0.010818456902223475), (4, 0.011158481532452153), (5, 0.010112396642273548), (6, 0.01080028917275223), (7, 0.012483076722014184), (8, 0.012495051412021412), (9, 0.014432193017473408), (10, 0.012458998782961977), (11, 0.011750596411087933), (12, 0.013073232828402052), (13, 0.0143621844403884), (14, 0.01354542666790532), (15, 0.013189981965457691)]\n",
      "INFO flwr 2023-04-18 11:28:51,970 | app.py:205 | app_fit: metrics_centralized {'accuracy': [(0, 0.2549019607843137), (1, 0.6666666666666666), (2, 0.7843137254901961), (3, 0.8235294117647058), (4, 0.8235294117647058), (5, 0.8627450980392157), (6, 0.8235294117647058), (7, 0.8235294117647058), (8, 0.8235294117647058), (9, 0.8235294117647058), (10, 0.8235294117647058), (11, 0.8431372549019608), (12, 0.8431372549019608), (13, 0.8431372549019608), (14, 0.8431372549019608), (15, 0.8627450980392157)]}\n"
     ]
    },
    {
     "data": {
      "text/plain": [
       "History (loss, distributed):\n",
       "\tround 1: 0.01994631418994829\n",
       "\tround 2: 0.010986526573405547\n",
       "\tround 3: 0.009870655396405388\n",
       "\tround 4: 0.009454600922032898\n",
       "\tround 5: 0.009395891135814145\n",
       "\tround 6: 0.009473355172895917\n",
       "\tround 7: 0.00920075519996531\n",
       "\tround 8: 0.009096667842537749\n",
       "\tround 9: 0.010371064292449576\n",
       "\tround 10: 0.009491091645231434\n",
       "\tround 11: 0.009596948281807056\n",
       "\tround 12: 0.010023911092795578\n",
       "\tround 13: 0.010680043828838012\n",
       "\tround 14: 0.011280667840265763\n",
       "\tround 15: 0.01095075516724119\n",
       "History (loss, centralized):\n",
       "\tround 0: 0.027108264904396207\n",
       "\tround 1: 0.019538920299679626\n",
       "\tround 2: 0.010860473501916025\n",
       "\tround 3: 0.010818456902223475\n",
       "\tround 4: 0.011158481532452153\n",
       "\tround 5: 0.010112396642273548\n",
       "\tround 6: 0.01080028917275223\n",
       "\tround 7: 0.012483076722014184\n",
       "\tround 8: 0.012495051412021412\n",
       "\tround 9: 0.014432193017473408\n",
       "\tround 10: 0.012458998782961977\n",
       "\tround 11: 0.011750596411087933\n",
       "\tround 12: 0.013073232828402052\n",
       "\tround 13: 0.0143621844403884\n",
       "\tround 14: 0.01354542666790532\n",
       "\tround 15: 0.013189981965457691\n",
       "History (metrics, distributed):\n",
       "{'accuracy': [(1, 0.6313725490196078), (2, 0.784313725490196), (3, 0.8274509803921568), (4, 0.8372549019607843), (5, 0.8470588235294118), (6, 0.8588235294117647), (7, 0.8666666666666666), (8, 0.8745098039215685), (9, 0.8647058823529413), (10, 0.8843137254901962), (11, 0.8823529411764707), (12, 0.8823529411764705), (13, 0.8862745098039216), (14, 0.8960784313725492), (15, 0.9)]}History (metrics, centralized):\n",
       "{'accuracy': [(0, 0.2549019607843137), (1, 0.6666666666666666), (2, 0.7843137254901961), (3, 0.8235294117647058), (4, 0.8235294117647058), (5, 0.8627450980392157), (6, 0.8235294117647058), (7, 0.8235294117647058), (8, 0.8235294117647058), (9, 0.8235294117647058), (10, 0.8235294117647058), (11, 0.8431372549019608), (12, 0.8431372549019608), (13, 0.8431372549019608), (14, 0.8431372549019608), (15, 0.8627450980392157)]}"
      ]
     },
     "execution_count": 17,
     "metadata": {},
     "output_type": "execute_result"
    }
   ],
   "source": [
    "# Create FedAvg strategy\n",
    "strategy = fl.server.strategy.FedAvg(\n",
    "#strategy = fl.server.strategy.FedAdagrad(\n",
    "    # Fraction_fit means how many of the clients participate every round. 1.0 = 100%, 0.5 = 50%\n",
    "    fraction_fit=1.0,\n",
    "    fraction_evaluate=0.5,    # percentage of clients randomly selected for evaluation\n",
    "    min_fit_clients=NUM_CLIENTS,    # could be lower than num_clients\n",
    "    #min_fit_clients=5,\n",
    "    min_evaluate_clients=NUM_CLIENTS,\n",
    "    #min_evaluate_clients=10,\n",
    "    min_available_clients=NUM_CLIENTS,\n",
    "    #min_available_clients=10,   # Wait until 10 clients are available should be NUM_CLIENTS\n",
    "    evaluate_metrics_aggregation_fn=weighted_average,  # <-- pass the metric aggregation function\n",
    "    evaluate_fn = evaluate,\n",
    "    on_fit_config_fn=get_on_fit_config_fn(),  \n",
    "    #initial_parameters=fl.common.ndarrays_to_parameters(get_parameters(Net())), # used for FedAdagrad\n",
    ")\n",
    "\n",
    "# Specify client resources if you need GPU (defaults to 1 CPU and 0 GPU)\n",
    "client_resources = None\n",
    "if DEVICE.type == \"cuda\":\n",
    "    client_resources = {\"num_gpus\": 1}\n",
    "    print('cuda?')\n",
    "    \n",
    "#print('Yo got here!')\n",
    "\n",
    "# Start simulation\n",
    "fl.simulation.start_simulation(\n",
    "    client_fn=client_fn,\n",
    "    num_clients=NUM_CLIENTS,\n",
    "    config=fl.server.ServerConfig(num_rounds=NR_ROUNDS),  #num_rounds = 10\n",
    "    strategy=strategy,\n",
    "    client_resources=client_resources,\n",
    ")"
   ]
  },
  {
   "cell_type": "code",
   "execution_count": 18,
   "id": "4e8766e7-e58a-4588-87ca-26b2c60bdbf7",
   "metadata": {},
   "outputs": [
    {
     "name": "stdout",
     "output_type": "stream",
     "text": [
      "[0.2549019607843137, 0.6666666666666666, 0.7843137254901961, 0.8235294117647058, 0.8235294117647058, 0.8627450980392157, 0.8235294117647058, 0.8235294117647058, 0.8235294117647058, 0.8235294117647058, 0.8235294117647058, 0.8431372549019608, 0.8431372549019608, 0.8431372549019608, 0.8431372549019608, 0.8627450980392157]\n",
      "[0.027108264904396207, 0.019538920299679626, 0.010860473501916025, 0.010818456902223475, 0.011158481532452153, 0.010112396642273548, 0.01080028917275223, 0.012483076722014184, 0.012495051412021412, 0.014432193017473408, 0.012458998782961977, 0.011750596411087933, 0.013073232828402052, 0.0143621844403884, 0.01354542666790532, 0.013189981965457691]\n"
     ]
    }
   ],
   "source": [
    "print(accuracies)\n",
    "print(losses)"
   ]
  },
  {
   "cell_type": "code",
   "execution_count": 19,
   "id": "0477b3ac-a47c-46af-8601-814f30ce9c84",
   "metadata": {},
   "outputs": [
    {
     "data": {
      "text/plain": [
       "<function matplotlib.pyplot.show(close=None, block=None)>"
      ]
     },
     "execution_count": 19,
     "metadata": {},
     "output_type": "execute_result"
    },
    {
     "data": {
      "image/png": "[encoded data removed]",
      "text/plain": [
       "<Figure size 432x288 with 1 Axes>"
      ]
     },
     "metadata": {
      "needs_background": "light"
     },
     "output_type": "display_data"
    }
   ],
   "source": [
    "import matplotlib.pyplot as plt \n",
    "import numpy as np\n",
    "\n",
    "\n",
    "# Losses\n",
    "nr = int(len(losses))\n",
    "x_losses = list(range(nr))\n",
    "y_losses = losses\n",
    "\n",
    "plt.plot(x_losses, y_losses)\n",
    "plt.title('Losses over rounds')\n",
    "plt.xlabel('Rounds of federated learning')\n",
    "plt.ylabel('Loss')\n",
    "plt.savefig('losses.png')\n",
    "plt.show"
   ]
  },
  {
   "cell_type": "code",
   "execution_count": 20,
   "id": "b9b6427a-e2ba-43b1-bc76-efbfd79001e1",
   "metadata": {},
   "outputs": [
    {
     "data": {
      "text/plain": [
       "<function matplotlib.pyplot.show(close=None, block=None)>"
      ]
     },
     "execution_count": 20,
     "metadata": {},
     "output_type": "execute_result"
    },
    {
     "data": {
      "image/png": "[encoded data removed]",
      "text/plain": [
       "<Figure size 432x288 with 1 Axes>"
      ]
     },
     "metadata": {
      "needs_background": "light"
     },
     "output_type": "display_data"
    }
   ],
   "source": [
    "# Accuracy\n",
    "nrr = int(len(accuracies))\n",
    "x_acc = list(range(nrr))\n",
    "y_acc = accuracies\n",
    "\n",
    "plt.plot(x_acc, y_acc, color='red')\n",
    "plt.title('Accuracy over rounds')\n",
    "plt.xlabel('Rounds of federated learning')\n",
    "plt.ylabel('Accuracy')\n",
    "plt.savefig('accuracy.png')\n",
    "plt.show"
   ]
  },
  {
   "cell_type": "code",
   "execution_count": 21,
   "id": "c966c37d-33d1-4ae0-9bb8-5013b6435b5a",
   "metadata": {},
   "outputs": [
    {
     "name": "stdout",
     "output_type": "stream",
     "text": [
      "Num clients: 10\n",
      "Num federation rounds: 15\n",
      "Batch size: 64\n",
      "Client epochs: 5\n",
      "Client learning rate: 0.0001\n",
      "Accuracy: 0.8627450980392157\n"
     ]
    }
   ],
   "source": [
    "print(f'Num clients: {NUM_CLIENTS}')\n",
    "print(f'Num federation rounds: {NR_ROUNDS}')\n",
    "print(f'Batch size: {BATCH_SIZE}')\n",
    "print(f'Client epochs: {CLIENT_EPOCHS}')\n",
    "print(f'Client learning rate: {LEARNING_RATE}')\n",
    "\n",
    "print(f'Accuracy: {accuracies[-1]}')"
   ]
  },
  {
   "cell_type": "code",
   "execution_count": 22,
   "id": "b325259c-1aad-4c15-bd21-ca9b00be212a",
   "metadata": {},
   "outputs": [
    {
     "name": "stdout",
     "output_type": "stream",
     "text": [
      "[tensor([1, 3, 2, 3, 0, 2, 3, 3, 3, 3, 1, 0, 3, 2, 1, 2, 3, 1, 3, 2, 2, 0, 1, 2,\n",
      "        0, 0, 1, 1, 2, 3, 1, 0, 1, 1, 0, 2, 1, 2, 3, 1, 2, 0, 1, 2, 3, 0, 2, 3,\n",
      "        3, 1, 0]), tensor([1, 3, 2, 3, 0, 2, 3, 3, 3, 3, 1, 0, 3, 2, 1, 2, 3, 1, 3, 2, 2, 0, 1, 2,\n",
      "        0, 0, 1, 1, 2, 3, 1, 0, 1, 1, 0, 2, 1, 2, 3, 1, 2, 0, 1, 2, 3, 0, 2, 3,\n",
      "        3, 1, 0]), tensor([1, 3, 2, 3, 0, 2, 3, 3, 3, 3, 1, 0, 3, 2, 1, 2, 3, 1, 3, 2, 2, 0, 1, 2,\n",
      "        0, 0, 1, 1, 2, 3, 1, 0, 1, 1, 0, 2, 1, 2, 3, 1, 2, 0, 1, 2, 3, 0, 2, 3,\n",
      "        3, 1, 0]), tensor([1, 3, 2, 3, 0, 2, 3, 3, 3, 3, 1, 0, 3, 2, 1, 2, 3, 1, 3, 2, 2, 0, 1, 2,\n",
      "        0, 0, 1, 1, 2, 3, 1, 0, 1, 1, 0, 2, 1, 2, 3, 1, 2, 0, 1, 2, 3, 0, 2, 3,\n",
      "        3, 1, 0]), tensor([1, 3, 2, 3, 0, 2, 3, 3, 3, 3, 1, 0, 3, 2, 1, 2, 3, 1, 3, 2, 2, 0, 1, 2,\n",
      "        0, 0, 1, 1, 2, 3, 1, 0, 1, 1, 0, 2, 1, 2, 3, 1, 2, 0, 1, 2, 3, 0, 2, 3,\n",
      "        3, 1, 0]), tensor([1, 3, 2, 3, 0, 2, 3, 3, 3, 3, 1, 0, 3, 2, 1, 2, 3, 1, 3, 2, 2, 0, 1, 2,\n",
      "        0, 0, 1, 1, 2, 3, 1, 0, 1, 1, 0, 2, 1, 2, 3, 1, 2, 0, 1, 2, 3, 0, 2, 3,\n",
      "        3, 1, 0]), tensor([1, 3, 2, 3, 0, 2, 3, 3, 3, 3, 1, 0, 3, 2, 1, 2, 3, 1, 3, 2, 2, 0, 1, 2,\n",
      "        0, 0, 1, 1, 2, 3, 1, 0, 1, 1, 0, 2, 1, 2, 3, 1, 2, 0, 1, 2, 3, 0, 2, 3,\n",
      "        3, 1, 0]), tensor([1, 3, 2, 3, 0, 2, 3, 3, 3, 3, 1, 0, 3, 2, 1, 2, 3, 1, 3, 2, 2, 0, 1, 2,\n",
      "        0, 0, 1, 1, 2, 3, 1, 0, 1, 1, 0, 2, 1, 2, 3, 1, 2, 0, 1, 2, 3, 0, 2, 3,\n",
      "        3, 1, 0]), tensor([1, 3, 2, 3, 0, 2, 3, 3, 3, 3, 1, 0, 3, 2, 1, 2, 3, 1, 3, 2, 2, 0, 1, 2,\n",
      "        0, 0, 1, 1, 2, 3, 1, 0, 1, 1, 0, 2, 1, 2, 3, 1, 2, 0, 1, 2, 3, 0, 2, 3,\n",
      "        3, 1, 0]), tensor([1, 3, 2, 3, 0, 2, 3, 3, 3, 3, 1, 0, 3, 2, 1, 2, 3, 1, 3, 2, 2, 0, 1, 2,\n",
      "        0, 0, 1, 1, 2, 3, 1, 0, 1, 1, 0, 2, 1, 2, 3, 1, 2, 0, 1, 2, 3, 0, 2, 3,\n",
      "        3, 1, 0]), tensor([1, 3, 2, 3, 0, 2, 3, 3, 3, 3, 1, 0, 3, 2, 1, 2, 3, 1, 3, 2, 2, 0, 1, 2,\n",
      "        0, 0, 1, 1, 2, 3, 1, 0, 1, 1, 0, 2, 1, 2, 3, 1, 2, 0, 1, 2, 3, 0, 2, 3,\n",
      "        3, 1, 0]), tensor([1, 3, 2, 3, 0, 2, 3, 3, 3, 3, 1, 0, 3, 2, 1, 2, 3, 1, 3, 2, 2, 0, 1, 2,\n",
      "        0, 0, 1, 1, 2, 3, 1, 0, 1, 1, 0, 2, 1, 2, 3, 1, 2, 0, 1, 2, 3, 0, 2, 3,\n",
      "        3, 1, 0]), tensor([1, 3, 2, 3, 0, 2, 3, 3, 3, 3, 1, 0, 3, 2, 1, 2, 3, 1, 3, 2, 2, 0, 1, 2,\n",
      "        0, 0, 1, 1, 2, 3, 1, 0, 1, 1, 0, 2, 1, 2, 3, 1, 2, 0, 1, 2, 3, 0, 2, 3,\n",
      "        3, 1, 0]), tensor([1, 3, 2, 3, 0, 2, 3, 3, 3, 3, 1, 0, 3, 2, 1, 2, 3, 1, 3, 2, 2, 0, 1, 2,\n",
      "        0, 0, 1, 1, 2, 3, 1, 0, 1, 1, 0, 2, 1, 2, 3, 1, 2, 0, 1, 2, 3, 0, 2, 3,\n",
      "        3, 1, 0]), tensor([1, 3, 2, 3, 0, 2, 3, 3, 3, 3, 1, 0, 3, 2, 1, 2, 3, 1, 3, 2, 2, 0, 1, 2,\n",
      "        0, 0, 1, 1, 2, 3, 1, 0, 1, 1, 0, 2, 1, 2, 3, 1, 2, 0, 1, 2, 3, 0, 2, 3,\n",
      "        3, 1, 0]), tensor([1, 3, 2, 3, 0, 2, 3, 3, 3, 3, 1, 0, 3, 2, 1, 2, 3, 1, 3, 2, 2, 0, 1, 2,\n",
      "        0, 0, 1, 1, 2, 3, 1, 0, 1, 1, 0, 2, 1, 2, 3, 1, 2, 0, 1, 2, 3, 0, 2, 3,\n",
      "        3, 1, 0])]\n",
      "[tensor([2, 2, 2, 2, 2, 2, 2, 2, 2, 2, 2, 2, 2, 2, 2, 2, 2, 2, 2, 2, 2, 2, 2, 2,\n",
      "        2, 2, 2, 2, 2, 2, 2, 2, 2, 2, 2, 2, 2, 2, 2, 2, 2, 2, 2, 2, 2, 2, 2, 2,\n",
      "        2, 2, 2]), tensor([1, 3, 2, 3, 3, 2, 3, 3, 3, 3, 2, 0, 3, 2, 3, 2, 3, 3, 3, 2, 2, 0, 1, 2,\n",
      "        3, 0, 1, 0, 3, 3, 1, 0, 2, 2, 0, 3, 1, 2, 3, 3, 2, 1, 3, 2, 3, 3, 3, 3,\n",
      "        3, 3, 3]), tensor([1, 3, 2, 3, 0, 2, 3, 3, 3, 3, 2, 0, 3, 2, 1, 2, 3, 0, 3, 2, 2, 0, 1, 2,\n",
      "        0, 0, 1, 0, 2, 3, 1, 0, 2, 1, 0, 2, 0, 2, 3, 3, 2, 1, 3, 2, 3, 1, 1, 3,\n",
      "        3, 0, 0]), tensor([1, 3, 2, 3, 0, 2, 3, 3, 3, 3, 2, 0, 3, 2, 1, 2, 3, 0, 3, 2, 2, 0, 1, 2,\n",
      "        0, 0, 1, 0, 2, 3, 1, 0, 2, 1, 0, 2, 1, 2, 3, 0, 2, 1, 3, 2, 3, 1, 1, 3,\n",
      "        3, 1, 0]), tensor([1, 3, 2, 3, 0, 2, 3, 3, 3, 3, 2, 0, 3, 2, 1, 2, 3, 0, 3, 2, 2, 0, 1, 2,\n",
      "        0, 0, 1, 0, 2, 3, 1, 0, 2, 1, 0, 2, 1, 2, 3, 0, 2, 1, 3, 2, 3, 1, 1, 3,\n",
      "        3, 1, 0]), tensor([1, 3, 2, 3, 0, 2, 3, 3, 3, 3, 2, 0, 3, 2, 1, 2, 3, 0, 3, 2, 2, 0, 1, 2,\n",
      "        0, 0, 1, 0, 2, 3, 1, 0, 1, 1, 0, 2, 1, 2, 3, 0, 2, 1, 3, 2, 3, 0, 1, 3,\n",
      "        3, 1, 0]), tensor([1, 3, 2, 3, 0, 2, 3, 3, 3, 3, 2, 0, 3, 2, 1, 2, 3, 0, 3, 2, 2, 0, 1, 2,\n",
      "        0, 0, 1, 0, 2, 3, 1, 0, 2, 1, 0, 2, 0, 2, 3, 0, 2, 1, 3, 2, 3, 0, 1, 3,\n",
      "        3, 1, 0]), tensor([1, 3, 2, 3, 0, 2, 3, 3, 3, 3, 2, 0, 3, 2, 1, 2, 3, 0, 3, 2, 2, 0, 1, 2,\n",
      "        0, 0, 1, 0, 2, 3, 1, 0, 2, 1, 0, 2, 0, 2, 3, 0, 2, 1, 3, 2, 3, 0, 1, 3,\n",
      "        3, 1, 0]), tensor([1, 3, 2, 3, 0, 2, 3, 3, 3, 3, 2, 0, 3, 2, 1, 2, 3, 0, 3, 2, 2, 0, 1, 2,\n",
      "        0, 0, 1, 0, 2, 3, 1, 0, 2, 1, 0, 2, 0, 2, 3, 0, 2, 1, 3, 2, 3, 0, 1, 3,\n",
      "        3, 1, 0]), tensor([1, 3, 2, 3, 0, 2, 3, 3, 3, 3, 2, 0, 3, 2, 1, 2, 3, 0, 3, 2, 2, 0, 1, 2,\n",
      "        0, 0, 1, 0, 2, 3, 1, 0, 2, 1, 0, 2, 0, 2, 3, 0, 2, 1, 3, 2, 3, 0, 1, 3,\n",
      "        3, 1, 0]), tensor([1, 3, 2, 3, 0, 2, 3, 3, 3, 3, 1, 0, 3, 2, 1, 2, 3, 0, 3, 2, 2, 0, 1, 2,\n",
      "        0, 0, 1, 0, 2, 3, 1, 0, 2, 1, 0, 2, 0, 2, 3, 0, 2, 1, 3, 2, 3, 0, 1, 3,\n",
      "        3, 1, 1]), tensor([1, 3, 2, 3, 0, 2, 3, 3, 3, 3, 1, 0, 3, 2, 1, 2, 3, 0, 3, 2, 2, 0, 1, 2,\n",
      "        0, 0, 1, 0, 2, 3, 1, 0, 2, 1, 0, 2, 0, 2, 3, 0, 2, 1, 3, 2, 3, 0, 1, 3,\n",
      "        3, 1, 0]), tensor([1, 3, 2, 3, 0, 2, 3, 3, 3, 3, 1, 0, 3, 2, 1, 2, 3, 0, 3, 2, 2, 0, 1, 2,\n",
      "        0, 0, 1, 0, 2, 3, 1, 0, 2, 1, 0, 2, 0, 2, 3, 0, 2, 1, 3, 2, 3, 0, 1, 3,\n",
      "        3, 1, 0]), tensor([1, 3, 2, 3, 0, 2, 3, 3, 3, 3, 1, 0, 3, 2, 1, 2, 3, 0, 3, 2, 2, 0, 1, 2,\n",
      "        0, 0, 1, 0, 2, 3, 1, 0, 2, 1, 0, 2, 0, 2, 3, 0, 2, 1, 3, 2, 3, 0, 1, 3,\n",
      "        3, 1, 0]), tensor([1, 3, 2, 3, 0, 2, 3, 3, 3, 3, 1, 0, 3, 2, 1, 2, 3, 0, 3, 2, 2, 0, 1, 2,\n",
      "        0, 0, 1, 0, 2, 3, 1, 0, 2, 1, 0, 2, 0, 2, 3, 1, 2, 1, 3, 2, 3, 0, 1, 3,\n",
      "        3, 1, 1]), tensor([1, 3, 2, 3, 0, 2, 3, 3, 3, 3, 1, 0, 3, 2, 1, 2, 3, 0, 3, 2, 2, 0, 1, 2,\n",
      "        0, 0, 1, 0, 2, 3, 1, 0, 2, 1, 0, 2, 0, 2, 3, 1, 2, 1, 3, 2, 3, 0, 1, 3,\n",
      "        3, 1, 0])]\n"
     ]
    }
   ],
   "source": [
    "from sklearn.metrics import confusion_matrix, ConfusionMatrixDisplay\n",
    "#print(true_)\n",
    "#print(predicted_)\n"
   ]
  },
  {
   "cell_type": "code",
   "execution_count": 23,
   "id": "a2e356bb-1561-49e3-af35-c63b75cec64d",
   "metadata": {},
   "outputs": [],
   "source": [
    "def flat(lis):\n",
    "    flatList = []\n",
    "    # Iterate with outer list\n",
    "    for element in lis:\n",
    "        if type(element) is list:\n",
    "            # Check if type is list than iterate through the sublist\n",
    "            for item in element:\n",
    "                flatList.append(item)\n",
    "        else:\n",
    "            flatList.append(element)\n",
    "    return flatList"
   ]
  },
  {
   "cell_type": "code",
   "execution_count": 24,
   "id": "ac82d24f-2ac4-4d6f-9b2d-eab423875733",
   "metadata": {},
   "outputs": [],
   "source": [
    "tr = []\n",
    "pr = []\n",
    "\n",
    "for i in true_:\n",
    "    ints = i.tolist()\n",
    "    tr.append(ints)\n",
    "\n",
    "for j in predicted_:\n",
    "    intss = j.tolist()\n",
    "    pr.append(intss)\n",
    "    \n",
    "#print(tr)\n",
    "#print(pr)"
   ]
  },
  {
   "cell_type": "code",
   "execution_count": 25,
   "id": "0437ebd7-7778-4639-9216-9735bd8c40e0",
   "metadata": {},
   "outputs": [],
   "source": [
    "flat_true = flat(tr)\n",
    "flat_predicted = flat(pr)\n",
    "\n",
    "#print(flat_true)\n",
    "#print(flat_predicted)"
   ]
  },
  {
   "cell_type": "code",
   "execution_count": 28,
   "id": "85e34069-4f45-40e1-9c83-ce73275141d7",
   "metadata": {},
   "outputs": [
    {
     "data": {
      "image/png": "[encoded data removed]",
      "text/plain": [
       "<Figure size 432x288 with 2 Axes>"
      ]
     },
     "metadata": {
      "needs_background": "light"
     },
     "output_type": "display_data"
    }
   ],
   "source": [
    "cm = confusion_matrix(flat_true, flat_predicted)\n",
    "disp = ConfusionMatrixDisplay(confusion_matrix=cm, display_labels=[\"glioma\", \"meningioma\", \"notumor\", \"pituitary\"])\n",
    "disp.plot()\n",
    "plt.savefig('confusionmatrix.png')\n",
    "plt.show()"
   ]
  },
  {
   "cell_type": "code",
   "execution_count": 29,
   "id": "4908f5f1-ad99-4153-9167-20369ab3f8e3",
   "metadata": {},
   "outputs": [],
   "source": [
    "#Federated_learning_flower/dataset/brain_tumor_mri/Testing/notumor/Te-no_0034.jpg\n",
    "image = 'dataset/brain_tumor_mri/Testing/notumor/Te-no_0034.jpg'\n",
    "#pred = Net(image)\n",
    "#print(pred)"
   ]
  },
  {
   "cell_type": "code",
   "execution_count": 31,
   "id": "2a6c6bd5-517e-4791-a4ec-5e7034259a23",
   "metadata": {},
   "outputs": [
    {
     "name": "stdout",
     "output_type": "stream",
     "text": [
      "Net(\n",
      "  (conv1): Conv2d(3, 6, kernel_size=(3, 3), stride=(1, 1), padding=(1, 1))\n",
      "  (pool): MaxPool2d(kernel_size=2, stride=2, padding=0, dilation=1, ceil_mode=False)\n",
      "  (conv2): Conv2d(6, 16, kernel_size=(3, 3), stride=(1, 1), padding=(1, 1))\n",
      "  (fc1): Linear(in_features=50176, out_features=120, bias=True)\n",
      "  (fc2): Linear(in_features=120, out_features=84, bias=True)\n",
      "  (fc3): Linear(in_features=84, out_features=4, bias=True)\n",
      ")\n"
     ]
    }
   ],
   "source": [
    "#from torchsummary import summary\n",
    "#summary(Net(), (3, 224, 224))\n",
    "\n",
    "print(Net())"
   ]
  },
  {
   "cell_type": "code",
   "execution_count": null,
   "id": "84497383-d10a-4d0f-83b0-a7c59a82d30a",
   "metadata": {},
   "outputs": [],
   "source": []
  }
 ],
 "metadata": {
  "kernelspec": {
   "display_name": "Python 3",
   "language": "python",
   "name": "python3"
  },
  "language_info": {
   "codemirror_mode": {
    "name": "ipython",
    "version": 3
   },
   "file_extension": ".py",
   "mimetype": "text/x-python",
   "name": "python",
   "nbconvert_exporter": "python",
   "pygments_lexer": "ipython3",
   "version": "3.8.13"
  }
 },
 "nbformat": 4,
 "nbformat_minor": 5
}
